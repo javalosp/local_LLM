{
 "cells": [
  {
   "cell_type": "code",
   "execution_count": null,
   "metadata": {
    "scrolled": true
   },
   "outputs": [],
   "source": [
    "# local imports\n",
    "from catalogs import MODELS_CATALOG, EMBEDDING_MODELS_CATALOG\n",
    "from settings import DATA_PATH, embeddings_model_name, BASE_VECTORSTORE_DIR, VECTORSTORE_PATH, prompt_template, method, model\n",
    "from preprocess import load_sources, split_documents, load_vector_store\n",
    "from llm_model_setup import create_llm, create_retrieval_chain\n",
    "from langchain.llms import LlamaCpp, CTransformers\n",
    "\n",
    "\n",
    "documents = load_sources(DATA_PATH)\n",
    "texts = split_documents(documents)\n",
    "db = load_vector_store(EMBEDDING_MODELS_CATALOG[embeddings_model_name], VECTORSTORE_PATH, texts, verbosity=1)\n",
    "llm = create_llm(method, model, MODELS_CATALOG, download_dir=\"models\")\n",
    "qa_chain = create_retrieval_chain(db, prompt_template, llm)\n",
    "\n",
    "# Ask a Question\n",
    "query = \"Based on the provided documents, write a short summary of the key findings on data uncertainty handling methods.\"\n",
    "result = qa_chain({\"query\": query})\n",
    "\n",
    "# Print the result\n",
    "print(\"\\n--- Generated Whitepaper/Answer ---\\n\")\n",
    "print(result['result'])\n",
    "\n",
    "# You can also inspect the source documents used for the answer\n",
    "print(\"\\n--- Source Documents Used ---\\n\")\n",
    "for doc in result['source_documents']:\n",
    "    print(f\"- Page {doc.metadata.get('page', 'N/A')}: {doc.page_content[:200]}...\")"
   ]
  },
  {
   "cell_type": "code",
   "execution_count": 3,
   "metadata": {},
   "outputs": [
    {
     "name": "stderr",
     "output_type": "stream",
     "text": [
      "Llama.generate: 50 prefix-match hit, remaining 569 prompt tokens to eval\n",
      "llama_perf_context_print:        load time =   33291.14 ms\n",
      "llama_perf_context_print: prompt eval time =   34825.35 ms /   569 tokens (   61.20 ms per token,    16.34 tokens per second)\n",
      "llama_perf_context_print:        eval time =   80757.72 ms /   255 runs   (  316.70 ms per token,     3.16 tokens per second)\n",
      "llama_perf_context_print:       total time =  115779.08 ms /   824 tokens\n"
     ]
    },
    {
     "name": "stdout",
     "output_type": "stream",
     "text": [
      "dict_keys(['query', 'result', 'source_documents'])\n",
      "\n",
      "--- Generated Whitepaper/Answer ---\n",
      "\n",
      "\n",
      "    The document sheds light on the significance of data uncertainty in Life Cycle Assessment (LCA). LCA is a comprehensive approach to assessing the environmental impact of a product or process throughout its entire life cycle.\n",
      "    \n",
      "    Data uncertainty arises from various sources, including measurement errors, data collection errors, modeling errors, and natural variability. These sources of data uncertainty can significantly affect the results and conclusions of an LCA study.\n",
      "    \n",
      "    To address data uncertainty in LCA studies, various handling methods have been proposed. These methods include sensitivity analysis, uncertainty propagation, Monte Carlo simulation, Bayesian analysis, fuzzy logic, and others.\n",
      "    \n",
      "    Each of these handling methods has its own strengths and weaknesses, advantages and disadvantages, limitations and applicability, and other factors that need to be considered when selecting the most appropriate method for dealing with data uncertainty in a specific LCA study.\n",
      "    \n",
      "    In conclusion, data uncertainty is a significant challenge that needs to be addressed in Life Cycle Assessment (LCA) studies. Various handling methods have been proposed to address data uncertainty in LCA studies. Each of these handling methods has its own strengths and weaknesses, advantages and disadvantages\n",
      "\n",
      "--- Source Documents Used ---\n",
      "\n",
      "- Page 4: may be estimated through use of statistical regression tech- \n",
      "niques (Janssen et al. 1990). \n",
      "Finally, it should be noted that, although the techniques \n",
      "mentioned above may be useful in dealing with as...\n",
      "- Page 16: respectively. Before making the ﬁnal decision related to the methods or indicators,\n",
      "multiple options should be employed for the sake of unbiased interpretation.\n",
      "- Usually, the advanced and reliable ap...\n"
     ]
    }
   ],
   "source": [
    "# Ask a Question\n",
    "query = \"Based on the provided documents, write 1000 words summary of the key findings on data uncertainty for LCA handling methods.\"\n",
    "result = qa_chain({\"query\": query})\n",
    "\n",
    "print(result.keys())\n",
    "\n",
    "# Print the result\n",
    "print(\"\\n--- Generated Whitepaper/Answer ---\\n\")\n",
    "print(result['result'])\n",
    "\n",
    "# You can also inspect the source documents used for the answer\n",
    "print(\"\\n--- Source Documents Used ---\\n\")\n",
    "for doc in result['source_documents']:\n",
    "    print(f\"- Page {doc.metadata.get('page', 'N/A')}: {doc.page_content[:200]}...\")"
   ]
  },
  {
   "cell_type": "code",
   "execution_count": null,
   "metadata": {},
   "outputs": [],
   "source": []
  }
 ],
 "metadata": {
  "kernelspec": {
   "display_name": "llm_venv (kernel)",
   "language": "python",
   "name": "llm_venv"
  },
  "language_info": {
   "codemirror_mode": {
    "name": "ipython",
    "version": 3
   },
   "file_extension": ".py",
   "mimetype": "text/x-python",
   "name": "python",
   "nbconvert_exporter": "python",
   "pygments_lexer": "ipython3",
   "version": "3.9.23"
  }
 },
 "nbformat": 4,
 "nbformat_minor": 4
}
